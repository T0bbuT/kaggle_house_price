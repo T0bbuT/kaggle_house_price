{
 "cells": [
  {
   "cell_type": "markdown",
   "metadata": {},
   "source": [
    "# 1. EDA"
   ]
  },
  {
   "cell_type": "code",
   "execution_count": null,
   "metadata": {},
   "outputs": [],
   "source": [
    "import os\n",
    "import pandas as pd\n",
    "import numpy as np\n",
    "import matplotlib.pyplot as plt\n",
    "import japanize_matplotlib\n",
    "import seaborn as sns\n",
    "from ydata_profiling import ProfileReport\n",
    "from scipy import stats\n",
    "from scipy import special\n",
    "\n",
    "pd.set_option(\"display.max_columns\", 100)\n",
    "pd.set_option(\"display.max_rows\", 500)\n",
    "\n",
    "df_train = pd.read_csv(\"train_test_submission/train.csv\")\n",
    "df_train_Id = df_train[\"Id\"]\n",
    "df_train = df_train.drop(\"Id\", axis=1)\n",
    "\n",
    "df_test = pd.read_csv(\"train_test_submission/test.csv\")\n",
    "df_test_Id = df_test[\"Id\"]\n",
    "df_test = df_test.drop(\"Id\", axis=1)\n",
    "\n",
    "print(f\"df_train.shape: {df_train.shape}\")\n",
    "display(df_train.head(5))\n",
    "print(f\"df_train.shape: {df_test.shape}\")\n",
    "display(df_test.head(5))"
   ]
  },
  {
   "cell_type": "code",
   "execution_count": null,
   "metadata": {},
   "outputs": [],
   "source": [
    "print(\"-\" * 10, \"df_train.info()\", \"-\" * 10)\n",
    "print(df_train.info())\n",
    "\n",
    "print(\"-\" * 10, \"df_test.info()\", \"-\" * 10)\n",
    "print(df_test.info())"
   ]
  },
  {
   "cell_type": "code",
   "execution_count": 3,
   "metadata": {},
   "outputs": [],
   "source": [
    "# # ydata_profilingを使う場合。時間かかるので注意\n",
    "\n",
    "# if not os.path.exists(\"ydata_profiling\"):\n",
    "#     os.makedirs(\"ydata_profiling\")\n",
    "\n",
    "# profile = ProfileReport(df_train, minimal=True)\n",
    "# profile.to_file(\"ydata_profiling/kaggle_houseprices_minimal.html\")\n",
    "\n",
    "# # profile = ProfileReport(df_train, minimal=False)\n",
    "# # profile.to_file(\"ydata_profiling/kaggle_houseprices.html\")"
   ]
  },
  {
   "cell_type": "code",
   "execution_count": null,
   "metadata": {},
   "outputs": [],
   "source": [
    "print(\"-\" * 10, 'df_train[\"SalePrice\"].describe()', \"-\" * 10)\n",
    "print(df_train[\"SalePrice\"].describe())\n",
    "\n",
    "# SalePriceの分布\n",
    "sns.histplot(df_train[\"SalePrice\"], kde=True)\n",
    "plt.suptitle(\"SalePriceの分布\")\n",
    "plt.show()"
   ]
  },
  {
   "cell_type": "code",
   "execution_count": null,
   "metadata": {},
   "outputs": [],
   "source": [
    "corr_matrix = df_train.corr(numeric_only=True)\n",
    "\"\"\"\n",
    "    訓練データdf_trainの相関係数行列\n",
    "    corr_matrix = df_train.corr(numeric_only=True)\n",
    "\"\"\"\n",
    "\n",
    "plt.figure(figsize=(12, 10))\n",
    "sns.heatmap(abs(corr_matrix), annot=True, fmt=\".1f\", annot_kws={\"fontsize\": 6})\n",
    "\n",
    "plt.suptitle(\"訓練データの相関係数(絶対値)行列_カテゴリ変数を除く\")\n",
    "plt.show()"
   ]
  },
  {
   "cell_type": "code",
   "execution_count": null,
   "metadata": {},
   "outputs": [],
   "source": [
    "threshold = 0.6\n",
    "high_corr_cols = (\n",
    "    corr_matrix[\"SalePrice\"][abs(corr_matrix[\"SalePrice\"]) >= threshold]\n",
    "    .sort_values(ascending=False)\n",
    "    .index\n",
    ").drop(\"SalePrice\")\n",
    "\n",
    "# プロットのサイズを指定 (行数と列数は自由に調整可能)\n",
    "num_cols = len(high_corr_cols)\n",
    "fig, axes = plt.subplots(nrows=(num_cols // 3 + 1), ncols=3, figsize=(15, 5 * (num_cols // 3 + 1)))\n",
    "\n",
    "# high_corr_colsにある特徴量ごとに散布図を描く\n",
    "for ax, col in zip(axes.flatten(), high_corr_cols):\n",
    "    sns.scatterplot(x=df_train[col], y=df_train[\"SalePrice\"],alpha=0.3 , ax=ax)\n",
    "    ax.set_title(f\"{col} vs SalePrice. 相関係数: {corr_matrix[\"SalePrice\"][col]:.3f}\")\n",
    "\n",
    "# グラフのレイアウトを自動調整\n",
    "plt.suptitle(f\"SalePriceとの相関係数の絶対値が{threshold}以上の特徴量についての散布図\")\n",
    "plt.tight_layout()\n",
    "plt.show()\n",
    "\n",
    "# 外れ値が同じデータを指しているのかどうかをパパッと確認したいが…このままだと出来ない\n",
    "# plotlyとかいうインタラクティブにグラフを描けるライブラリを使うと良いかも？\n",
    "# とりあえず、もう一度スターター？見るか"
   ]
  },
  {
   "cell_type": "markdown",
   "metadata": {},
   "source": [
    "# 2. 前処理"
   ]
  },
  {
   "cell_type": "code",
   "execution_count": 7,
   "metadata": {},
   "outputs": [],
   "source": [
    "# 特徴量エンジニアリング\n",
    "# 新しい特徴量（'TotalSF'：'TotalBsmtSF'、'1stFlrSF'、'2ndFlrSF'を合計したもの。）の作成\n",
    "\n",
    "datasets = [df_train, df_test]\n",
    "for i in range(len(datasets)):\n",
    "    datasets[i][\"TotalSF\"] = (\n",
    "        datasets[i][\"TotalBsmtSF\"] + datasets[i][\"1stFlrSF\"] + datasets[i][\"2ndFlrSF\"]\n",
    "    )"
   ]
  },
  {
   "cell_type": "code",
   "execution_count": null,
   "metadata": {},
   "outputs": [],
   "source": [
    "# lightGBMに突っ込むためには数値型(またはbool型)である必要があるので、object型のデータをlabel encodingで処理する\n",
    "# https://qiita.com/Hyperion13fleet/items/afa49a84bd5db65ffc31　こっちのほうが便利？\n",
    "\n",
    "from sklearn.preprocessing import OrdinalEncoder\n",
    "from sklearn.model_selection import train_test_split\n",
    "from sklearn.model_selection import KFold\n",
    "from lightgbm import LGBMRegressor, plot_tree\n",
    "from sklearn.metrics import root_mean_squared_error as rmse\n",
    "\n",
    "# object型のデータが入っている列を抽出\n",
    "object_columns = df_train.select_dtypes(include=\"object\").columns\n",
    "df_train_pre_encoding = df_train.copy()\n",
    "df_test_pre_encoding = df_test.copy()\n",
    "\n",
    "# ラベルエンコーディング\n",
    "oe = OrdinalEncoder()\n",
    "df_train[object_columns] = oe.fit_transform(df_train[object_columns])\n",
    "df_test[object_columns] = oe.fit_transform(df_test[object_columns])\n",
    "\n",
    "print(\"df_train_pre_encoding\")\n",
    "display(df_train_pre_encoding.head(3))\n",
    "print(\"df_train\")\n",
    "display(df_train.head(3))"
   ]
  },
  {
   "cell_type": "code",
   "execution_count": 9,
   "metadata": {},
   "outputs": [],
   "source": [
    "# # ラベルエンコーディング後に改めて相関係数行列を表示してみる\n",
    "# corr_matrix = df_train.corr(numeric_only=True)\n",
    "\n",
    "# plt.figure(figsize=(24, 20))\n",
    "# sns.heatmap(abs(corr_matrix), annot=True, fmt=\".1f\", annot_kws={\"fontsize\": 6})\n",
    "\n",
    "# カテゴリ変数を含めて相関をみたいのなら、カテゴリ変数の順位関係を考慮したラベル付けをしておかねばなるまい\n",
    "# しかし現状はそうはなっていない…\n",
    "# plt.suptitle(\"訓練データの相関係数(絶対値)行列_ラベルエンコーディング後\")\n",
    "# plt.show()"
   ]
  },
  {
   "cell_type": "code",
   "execution_count": null,
   "metadata": {},
   "outputs": [],
   "source": [
    "X = df_train.drop([\"SalePrice\"], axis=1)\n",
    "y = df_train[\"SalePrice\"]\n",
    "\n",
    "# クロスバリデーション\n",
    "kf = KFold(n_splits=4, shuffle=True, random_state=42)\n",
    "\n",
    "scores = []\n",
    "# params = {}\n",
    "params = {\"max_depth\": 19, \"learning_rate\": 0.1}\n",
    "# パラメータチューニングにはoptunaというのを使うと良いらしい\n",
    "# https://qiita.com/tetsuro731/items/a19a85fd296d4b87c367\n",
    "# https://qiita.com/tetsuro731/items/76434194bab336a97172\n",
    "\n",
    "for tr_idx, va_idx in kf.split(X):\n",
    "    X_tr, X_va = X.iloc[tr_idx], X.iloc[va_idx]\n",
    "    y_tr, y_va = y.iloc[tr_idx], y.iloc[va_idx]\n",
    "\n",
    "    model = LGBMRegressor(**params)\n",
    "    # GBDTのパラメータについて。https://knknkn.hatenablog.com/entry/2021/06/29/125226\n",
    "    model.fit(X_tr, y_tr)\n",
    "    y_pred = model.predict(X_va)\n",
    "    score = rmse(np.log10(y_pred), np.log10(y_va))\n",
    "    scores.append(score)\n",
    "\n",
    "print(f\"\\n\\nThe score is {np.mean(scores)}.\")\n",
    "\n",
    "# メモ：[LightGBM] [Warning] No further splits with positive gain, best gain: -infについて\n",
    "# これは「決定木の作成中、これ以上分岐を作っても予測誤差が下がらなかったのでこれ以上分岐をさせなかった」ことを意味するらしい"
   ]
  },
  {
   "cell_type": "code",
   "execution_count": null,
   "metadata": {},
   "outputs": [],
   "source": [
    "plot_tree(model, tree_index=0, figsize=(20, 10))  # 1番目の木の様子を出力"
   ]
  },
  {
   "cell_type": "code",
   "execution_count": null,
   "metadata": {},
   "outputs": [],
   "source": [
    "# 一度このまま提出用のデータを出力\n",
    "model = LGBMRegressor(max_depth=-1)\n",
    "model.fit(X, y)\n",
    "sub_pred = model.predict(df_test)\n",
    "submission = pd.DataFrame({\"Id\": df_test_Id, \"SalePrice\": sub_pred})\n",
    "submission.to_csv(r\"train_test_submission\\submission.csv\", index=False)"
   ]
  },
  {
   "cell_type": "code",
   "execution_count": null,
   "metadata": {},
   "outputs": [],
   "source": []
  }
 ],
 "metadata": {
  "kernelspec": {
   "display_name": "Python 3",
   "language": "python",
   "name": "python3"
  },
  "language_info": {
   "codemirror_mode": {
    "name": "ipython",
    "version": 3
   },
   "file_extension": ".py",
   "mimetype": "text/x-python",
   "name": "python",
   "nbconvert_exporter": "python",
   "pygments_lexer": "ipython3",
   "version": "3.12.3"
  }
 },
 "nbformat": 4,
 "nbformat_minor": 2
}
